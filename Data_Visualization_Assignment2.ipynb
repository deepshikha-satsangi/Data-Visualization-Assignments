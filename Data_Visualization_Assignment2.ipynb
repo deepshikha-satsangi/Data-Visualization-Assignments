{
  "nbformat": 4,
  "nbformat_minor": 0,
  "metadata": {
    "colab": {
      "name": "Data Visualization Assignment2.ipynb",
      "provenance": []
    },
    "kernelspec": {
      "name": "python3",
      "display_name": "Python 3"
    },
    "language_info": {
      "name": "python"
    }
  },
  "cells": [
    {
      "cell_type": "code",
      "metadata": {
        "id": "Eg4UTRzNU9C_"
      },
      "source": [
        "import numpy as np\n",
        "import pandas as pd\n",
        "import seaborn as sns\n",
        "from numpy.random import randn, randint, uniform, sample\n",
        "import matplotlib as mpl\n",
        "import matplotlib.pyplot as plt\n",
        "import pandas as pd\n",
        "%matplotlib inline"
      ],
      "execution_count": 1,
      "outputs": []
    },
    {
      "cell_type": "code",
      "metadata": {
        "id": "IkII4kLEX_83"
      },
      "source": [
        "df = pd.DataFrame(randn(10,4), columns=['a','b','c','d'])"
      ],
      "execution_count": 2,
      "outputs": []
    },
    {
      "cell_type": "code",
      "metadata": {
        "colab": {
          "base_uri": "https://localhost:8080/",
          "height": 202
        },
        "id": "f6st-7MBYwsq",
        "outputId": "286caa7f-7e60-4456-e66e-849b3aa87817"
      },
      "source": [
        "df.head()"
      ],
      "execution_count": 3,
      "outputs": [
        {
          "output_type": "execute_result",
          "data": {
            "text/html": [
              "<div>\n",
              "<style scoped>\n",
              "    .dataframe tbody tr th:only-of-type {\n",
              "        vertical-align: middle;\n",
              "    }\n",
              "\n",
              "    .dataframe tbody tr th {\n",
              "        vertical-align: top;\n",
              "    }\n",
              "\n",
              "    .dataframe thead th {\n",
              "        text-align: right;\n",
              "    }\n",
              "</style>\n",
              "<table border=\"1\" class=\"dataframe\">\n",
              "  <thead>\n",
              "    <tr style=\"text-align: right;\">\n",
              "      <th></th>\n",
              "      <th>a</th>\n",
              "      <th>b</th>\n",
              "      <th>c</th>\n",
              "      <th>d</th>\n",
              "    </tr>\n",
              "  </thead>\n",
              "  <tbody>\n",
              "    <tr>\n",
              "      <th>0</th>\n",
              "      <td>1.858757</td>\n",
              "      <td>-0.657803</td>\n",
              "      <td>-2.157205</td>\n",
              "      <td>-0.080405</td>\n",
              "    </tr>\n",
              "    <tr>\n",
              "      <th>1</th>\n",
              "      <td>-0.625695</td>\n",
              "      <td>-0.361067</td>\n",
              "      <td>-0.247801</td>\n",
              "      <td>0.159162</td>\n",
              "    </tr>\n",
              "    <tr>\n",
              "      <th>2</th>\n",
              "      <td>0.707252</td>\n",
              "      <td>0.732273</td>\n",
              "      <td>-0.975962</td>\n",
              "      <td>-0.806799</td>\n",
              "    </tr>\n",
              "    <tr>\n",
              "      <th>3</th>\n",
              "      <td>0.061403</td>\n",
              "      <td>-0.296391</td>\n",
              "      <td>0.615297</td>\n",
              "      <td>0.535060</td>\n",
              "    </tr>\n",
              "    <tr>\n",
              "      <th>4</th>\n",
              "      <td>-0.491419</td>\n",
              "      <td>-1.206528</td>\n",
              "      <td>1.298464</td>\n",
              "      <td>-0.600941</td>\n",
              "    </tr>\n",
              "  </tbody>\n",
              "</table>\n",
              "</div>"
            ],
            "text/plain": [
              "          a         b         c         d\n",
              "0  1.858757 -0.657803 -2.157205 -0.080405\n",
              "1 -0.625695 -0.361067 -0.247801  0.159162\n",
              "2  0.707252  0.732273 -0.975962 -0.806799\n",
              "3  0.061403 -0.296391  0.615297  0.535060\n",
              "4 -0.491419 -1.206528  1.298464 -0.600941"
            ]
          },
          "metadata": {
            "tags": []
          },
          "execution_count": 3
        }
      ]
    },
    {
      "cell_type": "code",
      "metadata": {
        "colab": {
          "base_uri": "https://localhost:8080/",
          "height": 202
        },
        "id": "hzNdkyIXY2wk",
        "outputId": "6b08995b-64ce-4ee0-fd35-29744c2a1d53"
      },
      "source": [
        "df.tail()"
      ],
      "execution_count": 4,
      "outputs": [
        {
          "output_type": "execute_result",
          "data": {
            "text/html": [
              "<div>\n",
              "<style scoped>\n",
              "    .dataframe tbody tr th:only-of-type {\n",
              "        vertical-align: middle;\n",
              "    }\n",
              "\n",
              "    .dataframe tbody tr th {\n",
              "        vertical-align: top;\n",
              "    }\n",
              "\n",
              "    .dataframe thead th {\n",
              "        text-align: right;\n",
              "    }\n",
              "</style>\n",
              "<table border=\"1\" class=\"dataframe\">\n",
              "  <thead>\n",
              "    <tr style=\"text-align: right;\">\n",
              "      <th></th>\n",
              "      <th>a</th>\n",
              "      <th>b</th>\n",
              "      <th>c</th>\n",
              "      <th>d</th>\n",
              "    </tr>\n",
              "  </thead>\n",
              "  <tbody>\n",
              "    <tr>\n",
              "      <th>5</th>\n",
              "      <td>0.238603</td>\n",
              "      <td>0.495220</td>\n",
              "      <td>-1.416282</td>\n",
              "      <td>0.082512</td>\n",
              "    </tr>\n",
              "    <tr>\n",
              "      <th>6</th>\n",
              "      <td>0.846325</td>\n",
              "      <td>-0.599807</td>\n",
              "      <td>-0.652133</td>\n",
              "      <td>-0.548978</td>\n",
              "    </tr>\n",
              "    <tr>\n",
              "      <th>7</th>\n",
              "      <td>0.654666</td>\n",
              "      <td>1.399285</td>\n",
              "      <td>0.356664</td>\n",
              "      <td>-1.013404</td>\n",
              "    </tr>\n",
              "    <tr>\n",
              "      <th>8</th>\n",
              "      <td>0.653305</td>\n",
              "      <td>1.096664</td>\n",
              "      <td>2.821147</td>\n",
              "      <td>-0.649003</td>\n",
              "    </tr>\n",
              "    <tr>\n",
              "      <th>9</th>\n",
              "      <td>-0.030251</td>\n",
              "      <td>2.687881</td>\n",
              "      <td>0.412910</td>\n",
              "      <td>-1.247433</td>\n",
              "    </tr>\n",
              "  </tbody>\n",
              "</table>\n",
              "</div>"
            ],
            "text/plain": [
              "          a         b         c         d\n",
              "5  0.238603  0.495220 -1.416282  0.082512\n",
              "6  0.846325 -0.599807 -0.652133 -0.548978\n",
              "7  0.654666  1.399285  0.356664 -1.013404\n",
              "8  0.653305  1.096664  2.821147 -0.649003\n",
              "9 -0.030251  2.687881  0.412910 -1.247433"
            ]
          },
          "metadata": {
            "tags": []
          },
          "execution_count": 4
        }
      ]
    },
    {
      "cell_type": "code",
      "metadata": {
        "colab": {
          "base_uri": "https://localhost:8080/",
          "height": 893
        },
        "id": "-COVULepY6Jz",
        "outputId": "ed4b4388-0428-474f-c556-19747ab54139"
      },
      "source": [
        "df.plot(kind = 'bar', title = 'bar chart', figsize = (15,15))"
      ],
      "execution_count": 6,
      "outputs": [
        {
          "output_type": "execute_result",
          "data": {
            "text/plain": [
              "<matplotlib.axes._subplots.AxesSubplot at 0x7fde032cfd50>"
            ]
          },
          "metadata": {
            "tags": []
          },
          "execution_count": 6
        },
        {
          "output_type": "display_data",
          "data": {
            "image/png": "[encoded data removed]",
            "text/plain": [
              "<Figure size 1080x1080 with 1 Axes>"
            ]
          },
          "metadata": {
            "tags": [],
            "needs_background": "light"
          }
        }
      ]
    }
  ]
}