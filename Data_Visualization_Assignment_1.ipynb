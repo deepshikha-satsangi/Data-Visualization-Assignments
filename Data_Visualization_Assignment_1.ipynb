{
  "nbformat": 4,
  "nbformat_minor": 0,
  "metadata": {
    "colab": {
      "name": "Data Visualization Assignment 1.ipynb",
      "provenance": [],
      "collapsed_sections": []
    },
    "kernelspec": {
      "name": "python3",
      "display_name": "Python 3"
    },
    "language_info": {
      "name": "python"
    }
  },
  "cells": [
    {
      "cell_type": "code",
      "metadata": {
        "id": "sbgbBYkrLsL0"
      },
      "source": [
        "import numpy as np\n",
        "import pandas as pd\n",
        "import seaborn as sns\n",
        "from numpy.random import randn, randint, uniform, sample\n",
        "import matplotlib as mpl\n",
        "import matplotlib.pyplot as plt\n",
        "%matplotlib inline"
      ],
      "execution_count": null,
      "outputs": []
    },
    {
      "cell_type": "markdown",
      "metadata": {
        "id": "pHtUDCiqLcRM"
      },
      "source": [
        "Question 1 - plot a line plot between a and b:\n",
        "a=np.arange(40,50)\n",
        "b=np.arange(50,60)"
      ]
    },
    {
      "cell_type": "code",
      "metadata": {
        "colab": {
          "base_uri": "https://localhost:8080/",
          "height": 312
        },
        "id": "d5u_hsrLZ-ZU",
        "outputId": "97cbef75-2f6b-4997-b637-970e7a8f6c34"
      },
      "source": [
        "a=np.arange(40,50)\n",
        "b=np.arange(50,60)\n",
        "plt.plot(a,b,'go--', linewidth=1, markersize=1)\n",
        "plt.title('Line Plot')\n",
        "plt.xlabel('x-axis')\n",
        "plt.ylabel('y-axis')"
      ],
      "execution_count": null,
      "outputs": [
        {
          "output_type": "execute_result",
          "data": {
            "text/plain": [
              "Text(0, 0.5, 'y-axis')"
            ]
          },
          "metadata": {
            "tags": []
          },
          "execution_count": 3
        },
        {
          "output_type": "display_data",
          "data": {
            "image/png": "[encoded data removed]",
            "text/plain": [
              "<Figure size 432x288 with 1 Axes>"
            ]
          },
          "metadata": {
            "tags": [],
            "needs_background": "light"
          }
        }
      ]
    },
    {
      "cell_type": "markdown",
      "metadata": {
        "id": "Hk1NiumTaGpi"
      },
      "source": [
        "Question 2 - \n",
        "Plot a line plot showing the sales trend in company 1 and 2:\n",
        "\n",
        "days = [1,2,3,4,5,6,7] #days of d week\n",
        "sales_1 = [160,150,140,145,175,165,180] #sales of company1\n",
        "sales_2 = [70,90,160,150,140,145,175]  #sales of company2\n"
      ]
    },
    {
      "cell_type": "code",
      "metadata": {
        "id": "_sKLEX1ZMuVt"
      },
      "source": [
        "days = [1,2,3,4,5,6,7]\n",
        "sales_1 = [160,150,140,145,175,165,180]\n",
        "sales_2 = [70,90,160,150,140,145,175]"
      ],
      "execution_count": 12,
      "outputs": []
    },
    {
      "cell_type": "code",
      "metadata": {
        "colab": {
          "base_uri": "https://localhost:8080/",
          "height": 312
        },
        "id": "RThRSU3KQAWs",
        "outputId": "19b8df86-8c67-44b6-b9a2-76f78e68aadb"
      },
      "source": [
        "plt.plot(days,sales_1, color = 'purple')\n",
        "plt.plot(days,sales_2, color = 'orange')\n",
        "plt.title('trend', fontsize = 12, color = 'black')\n",
        "plt.xlabel('Days of week')\n",
        "plt.ylabel('Sales price')\n",
        "plt.show"
      ],
      "execution_count": 13,
      "outputs": [
        {
          "output_type": "execute_result",
          "data": {
            "text/plain": [
              "<function matplotlib.pyplot.show>"
            ]
          },
          "metadata": {
            "tags": []
          },
          "execution_count": 13
        },
        {
          "output_type": "display_data",
          "data": {
            "image/png": "[encoded data removed]",
            "text/plain": [
              "<Figure size 432x288 with 1 Axes>"
            ]
          },
          "metadata": {
            "tags": [],
            "needs_background": "light"
          }
        }
      ]
    },
    {
      "cell_type": "markdown",
      "metadata": {
        "id": "fCCHXHvvM78H"
      },
      "source": [
        "Question 3 - Create a 3 by 3 subplots:\n",
        "multiple plots\n",
        "x = [1,2,3,4]\n",
        "y1 = [4,3,2,1]\n",
        "y2 = [10,20,30,40]\n",
        "y3 = [40,30,20,10]\n",
        "y4 = [1,2,1,2]\n",
        "y5 = [40,70,90,70]\n"
      ]
    },
    {
      "cell_type": "code",
      "metadata": {
        "id": "kYoePRysRLBZ"
      },
      "source": [
        " x = [1,2,3,4] \n",
        " y1 = [4,3,2,1] \n",
        " y2 = [10,20,30,40] \n",
        " y3 = [40,30,20,10] \n",
        " y4 = [1,2,1,2] \n",
        " y5 = [40,70,90,70]"
      ],
      "execution_count": 14,
      "outputs": []
    },
    {
      "cell_type": "code",
      "metadata": {
        "colab": {
          "base_uri": "https://localhost:8080/",
          "height": 175
        },
        "id": "vyt_CGqJRSCv",
        "outputId": "db65301b-ae17-48eb-bf53-707d3a8c6c8d"
      },
      "source": [
        "plt.figure(figsize = (5,5))\n",
        "plt.subplot(3,3,1)\n",
        "plt.plot(x,y1)\n",
        "plt.xlabel('X-axis', color='blue')\n",
        "plt.ylabel('Y-axis', color='blue')\n",
        "plt.title('subplot1')\n",
        "plt.show"
      ],
      "execution_count": 28,
      "outputs": [
        {
          "output_type": "execute_result",
          "data": {
            "text/plain": [
              "<function matplotlib.pyplot.show>"
            ]
          },
          "metadata": {
            "tags": []
          },
          "execution_count": 28
        },
        {
          "output_type": "display_data",
          "data": {
            "image/png": "[encoded data removed]",
            "text/plain": [
              "<Figure size 360x360 with 1 Axes>"
            ]
          },
          "metadata": {
            "tags": [],
            "needs_background": "light"
          }
        }
      ]
    },
    {
      "cell_type": "code",
      "metadata": {
        "colab": {
          "base_uri": "https://localhost:8080/",
          "height": 598
        },
        "id": "feXEdlrhUh8_",
        "outputId": "684df506-3704-4c53-81ba-cc7fccefc850"
      },
      "source": [
        "plt.figure(figsize = (5,5))\n",
        "plt.subplot(3,3,1)\n",
        "plt.plot(x,y2)\n",
        "plt.xlabel('X-axis', color='blue')\n",
        "plt.ylabel('Y-axis', color='blue')\n",
        "plt.title('subplot1')\n",
        "\n",
        "plt.figure(figsize = (5,5))\n",
        "plt.subplot(3,3,1)\n",
        "plt.plot(x,y3)\n",
        "plt.xlabel('X-axis', color='blue')\n",
        "plt.ylabel('Y-axis', color='blue')\n",
        "plt.title('subplot1')\n",
        "\n",
        "plt.figure(figsize = (5,5))\n",
        "plt.subplot(3,3,1)\n",
        "plt.plot(x,y4)\n",
        "plt.xlabel('X-axis', color='blue')\n",
        "plt.ylabel('Y-axis', color='blue')\n",
        "plt.title('subplot1')\n",
        "\n",
        "plt.figure(figsize = (5,5))\n",
        "plt.subplot(3,3,1)\n",
        "plt.plot(x,y5)\n",
        "plt.xlabel('X-axis', color='blue')\n",
        "plt.ylabel('Y-axis', color='blue')\n",
        "plt.title('subplot1')\n",
        "plt.show"
      ],
      "execution_count": 29,
      "outputs": [
        {
          "output_type": "execute_result",
          "data": {
            "text/plain": [
              "<function matplotlib.pyplot.show>"
            ]
          },
          "metadata": {
            "tags": []
          },
          "execution_count": 29
        },
        {
          "output_type": "display_data",
          "data": {
            "image/png": "[encoded data removed]",
            "text/plain": [
              "<Figure size 360x360 with 1 Axes>"
            ]
          },
          "metadata": {
            "tags": [],
            "needs_background": "light"
          }
        },
        {
          "output_type": "display_data",
          "data": {
            "image/png": "[encoded data removed]",
            "text/plain": [
              "<Figure size 360x360 with 1 Axes>"
            ]
          },
          "metadata": {
            "tags": [],
            "needs_background": "light"
          }
        },
        {
          "output_type": "display_data",
          "data": {
            "image/png": "[encoded data removed]",
            "text/plain": [
              "<Figure size 360x360 with 1 Axes>"
            ]
          },
          "metadata": {
            "tags": [],
            "needs_background": "light"
          }
        },
        {
          "output_type": "display_data",
          "data": {
            "image/png": "[encoded data removed]",
            "text/plain": [
              "<Figure size 360x360 with 1 Axes>"
            ]
          },
          "metadata": {
            "tags": [],
            "needs_background": "light"
          }
        }
      ]
    }
  ]
}